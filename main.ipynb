{
 "cells": [
  {
   "cell_type": "code",
   "execution_count": 169,
   "metadata": {},
   "outputs": [],
   "source": [
    "import requests\n",
    "import json"
   ]
  },
  {
   "cell_type": "code",
   "execution_count": 170,
   "metadata": {},
   "outputs": [
    {
     "name": "stdout",
     "output_type": "stream",
     "text": [
      "hello world\n"
     ]
    }
   ],
   "source": [
    "msg = \"hello world\"\n",
    "print(msg)"
   ]
  },
  {
   "cell_type": "code",
   "execution_count": 190,
   "metadata": {},
   "outputs": [
    {
     "name": "stdout",
     "output_type": "stream",
     "text": [
      "0\n",
      "1\n",
      "2\n",
      "3\n",
      "4\n",
      "5\n",
      "6\n",
      "7\n",
      "8\n",
      "9\n",
      "10\n",
      "11\n",
      "12\n",
      "13\n",
      "14\n",
      "15\n",
      "16\n",
      "17\n"
     ]
    }
   ],
   "source": [
    "r = requests.get('https://valorant-api.com/v1/weapons')\n",
    "calleddata = json.loads(r.text)\n",
    "\n",
    "count = 0\n",
    "for x in calleddata['data']:\n",
    "    print(count)\n",
    "    del calleddata['data'][count]['uuid']\n",
    "    del calleddata['data'][count]['defaultSkinUuid']\n",
    "    del calleddata['data'][count]['displayIcon']\n",
    "    del calleddata['data'][count]['killStreamIcon']\n",
    "    del calleddata['data'][count]['assetPath']\n",
    "    del calleddata['data'][count]['shopData']\n",
    "    del calleddata['data'][count]['skins']\n",
    "    count += 1\n",
    "\n",
    "print(json.dumps(calleddata['data'], indent=2))\n",
    "\n",
    "with open('data.json', 'w') as f:\n",
    "    json.dump(calleddata['data'], f)"
   ]
  }
 ],
 "metadata": {
  "interpreter": {
   "hash": "4680342fd4657601f92f79bcd09075a69dd8b64ca6be8b0c027888e520c986ca"
  },
  "kernelspec": {
   "display_name": "Python 3.8.8 64-bit ('base': conda)",
   "name": "python3"
  },
  "language_info": {
   "codemirror_mode": {
    "name": "ipython",
    "version": 3
   },
   "file_extension": ".py",
   "mimetype": "text/x-python",
   "name": "python",
   "nbconvert_exporter": "python",
   "pygments_lexer": "ipython3",
   "version": "3.8.8"
  },
  "orig_nbformat": 4
 },
 "nbformat": 4,
 "nbformat_minor": 2
}
